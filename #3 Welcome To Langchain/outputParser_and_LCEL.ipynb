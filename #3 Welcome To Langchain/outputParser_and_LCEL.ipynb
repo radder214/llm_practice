{
 "cells": [
  {
   "cell_type": "markdown",
   "metadata": {},
   "source": [
    "# LCEL 사용 X"
   ]
  },
  {
   "cell_type": "code",
   "execution_count": 1,
   "metadata": {},
   "outputs": [],
   "source": [
    "from langchain.chat_models import ChatOpenAI\n",
    "from langchain.prompts import ChatPromptTemplate\n",
    "\n",
    "chat = ChatOpenAI(temperature=0.1)"
   ]
  },
  {
   "cell_type": "code",
   "execution_count": 2,
   "metadata": {},
   "outputs": [
    {
     "data": {
      "text/plain": [
       "['Hello', 'how', 'are', 'you']"
      ]
     },
     "execution_count": 2,
     "metadata": {},
     "output_type": "execute_result"
    }
   ],
   "source": [
    "from langchain.schema import BaseOutputParser\n",
    "\n",
    "# class CommaOutPutParser extends BaseOutputParser\n",
    "class CommaOutPutParser(BaseOutputParser): # LLM의 답변을 파싱할 custom class\n",
    "    def parse(self, text):\n",
    "        # strip -> text 양쪽 끝의 공백 제거\n",
    "        items = text.strip().split(\",\")\n",
    "\n",
    "        # map -> JS의 map function과 동일한 역할\n",
    "        # items 리스트의 각 요소에 str.strip 적용\n",
    "        return list(map(str.strip, items)) # return type = List\n",
    "        \n",
    "p = CommaOutPutParser()\n",
    "p.parse(\"  Hello  ,   how  ,   are  ,   you  \")"
   ]
  },
  {
   "cell_type": "code",
   "execution_count": 13,
   "metadata": {},
   "outputs": [
    {
     "data": {
      "text/plain": [
       "['red',\n",
       " 'blue',\n",
       " 'green',\n",
       " 'yellow',\n",
       " 'orange',\n",
       " 'purple',\n",
       " 'pink',\n",
       " 'black',\n",
       " 'white',\n",
       " 'brown']"
      ]
     },
     "execution_count": 13,
     "metadata": {},
     "output_type": "execute_result"
    }
   ],
   "source": [
    "system_msg = \"you are a list generating machine. Everything you are asked will be answered with a comma separated list of max {max_items} in lowercase . Do NOT reply with anything else\"\n",
    "human_msg = \"{question}\"\n",
    "\n",
    "template = ChatPromptTemplate.from_messages(\n",
    "    [(\"system\", system_msg), (\"human\", human_msg)]\n",
    ")\n",
    "\n",
    "prompt = template.format_messages(\n",
    "    max_items=10, # list의 element 수가 최대 10개인 list로 대답할 것이다.\n",
    "    question=\"What are the Colors?\"\n",
    ")\n",
    "\n",
    "result = chat.predict_messages(prompt)\n",
    "\n",
    "p = CommaOutPutParser()\n",
    "p.parse(result.content)\n"
   ]
  }
 ],
 "metadata": {
  "kernelspec": {
   "display_name": "env",
   "language": "python",
   "name": "python3"
  },
  "language_info": {
   "codemirror_mode": {
    "name": "ipython",
    "version": 3
   },
   "file_extension": ".py",
   "mimetype": "text/x-python",
   "name": "python",
   "nbconvert_exporter": "python",
   "pygments_lexer": "ipython3",
   "version": "3.11.6"
  }
 },
 "nbformat": 4,
 "nbformat_minor": 2
}
