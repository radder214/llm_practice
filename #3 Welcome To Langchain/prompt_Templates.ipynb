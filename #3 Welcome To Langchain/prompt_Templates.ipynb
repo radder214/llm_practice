{
 "cells": [
  {
   "cell_type": "code",
   "execution_count": 16,
   "metadata": {},
   "outputs": [
    {
     "data": {
      "text/plain": [
       "'The distance between Mexico and Thailand is approximately 9,500 miles (15,300 kilometers). My name is Assistant.'"
      ]
     },
     "execution_count": 16,
     "metadata": {},
     "output_type": "execute_result"
    }
   ],
   "source": [
    "from langchain.chat_models import ChatOpenAI\n",
    "from langchain.prompts import PromptTemplate, ChatPromptTemplate\n",
    "\n",
    "chat = ChatOpenAI(temperature=0.1)\n",
    "\n",
    "# PromptTemplate\n",
    "template = PromptTemplate.from_template(\n",
    "    \"What is the distance between {country_a} and {country_b}. Also what is your name?\"\n",
    ")\n",
    "# format function의 return type = String\n",
    "prompt = template.format(country_a=\"Mexico\", country_b=\"Thailand\")\n",
    "# predict\n",
    "chat.predict(prompt)"
   ]
  },
  {
   "cell_type": "code",
   "execution_count": 17,
   "metadata": {},
   "outputs": [
    {
     "data": {
      "text/plain": [
       "AIMessage(content='멕시코와 태국 사이의 거리는 대략 16,000km입니다. 저는 지리 전문가로, 제 이름은 배주현입니다.')"
      ]
     },
     "execution_count": 17,
     "metadata": {},
     "output_type": "execute_result"
    }
   ],
   "source": [
    "# ChatPromptTemplate\n",
    "template = ChatPromptTemplate.from_messages(\n",
    "    [\n",
    "        # Tuple 구조\n",
    "        (\"system\", \"You are geography expert. And you only reply in {language}\")\n",
    "        , (\"ai\", \"Ciao, mi chiamo {name}\")\n",
    "        , (\"human\", \"What is the distance between {country_a} and {country_b}. Also what is your name?\")\n",
    "    ]\n",
    ")\n",
    "# format_messages function의 return type = list\n",
    "prompt = template.format_messages(\n",
    "    language=\"Korean\"\n",
    "    , name=\"배주현\"\n",
    "    , country_a=\"Mexico\"\n",
    "    , country_b=\"Thailand\"\n",
    ")\n",
    "# predict\n",
    "chat.predict_messages(prompt)"
   ]
  }
 ],
 "metadata": {
  "kernelspec": {
   "display_name": "env",
   "language": "python",
   "name": "python3"
  },
  "language_info": {
   "codemirror_mode": {
    "name": "ipython",
    "version": 3
   },
   "file_extension": ".py",
   "mimetype": "text/x-python",
   "name": "python",
   "nbconvert_exporter": "python",
   "pygments_lexer": "ipython3",
   "version": "3.11.6"
  }
 },
 "nbformat": 4,
 "nbformat_minor": 2
}
