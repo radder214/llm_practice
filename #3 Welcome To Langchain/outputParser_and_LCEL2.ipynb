{
 "cells": [
  {
   "cell_type": "markdown",
   "metadata": {},
   "source": [
    "# LCEL 사용 O"
   ]
  },
  {
   "cell_type": "code",
   "execution_count": 4,
   "metadata": {},
   "outputs": [],
   "source": [
    "from langchain.chat_models import ChatOpenAI\n",
    "from langchain.prompts import ChatPromptTemplate\n",
    "\n",
    "chat = ChatOpenAI(temperature=0.1)"
   ]
  },
  {
   "cell_type": "code",
   "execution_count": 5,
   "metadata": {},
   "outputs": [],
   "source": [
    "from langchain.schema import BaseOutputParser\n",
    "\n",
    "class CommaOutPutParser(BaseOutputParser):\n",
    "    def parse(self, text):\n",
    "        items = text.strip().split(\",\")\n",
    "        return list(map(str.strip, items)) # return type = List"
   ]
  },
  {
   "cell_type": "code",
   "execution_count": 6,
   "metadata": {},
   "outputs": [],
   "source": [
    "system_msg = \"you are a list generating machine. Everything you are asked will be answered with a comma separated list of max {max_items} in lowercase . Do NOT reply with anything else\"\n",
    "human_msg = \"{question}\"\n",
    "\n",
    "template = ChatPromptTemplate.from_messages(\n",
    "    [(\"system\", system_msg), (\"human\", human_msg)]\n",
    ")"
   ]
  },
  {
   "cell_type": "code",
   "execution_count": 12,
   "metadata": {},
   "outputs": [
    {
     "data": {
      "text/plain": [
       "['superman', 'batman', 'spiderman', 'wonder woman', 'x-men']"
      ]
     },
     "execution_count": 12,
     "metadata": {},
     "output_type": "execute_result"
    }
   ],
   "source": [
    "# chain 구성\n",
    "# '|' 주변에 입력한 값들로 chain이 형성된다.(LangChain의 핵심)\n",
    "# '|' 을 이용해 chain 끼리도 결합을 할 수 있다. -> ex) all_chain = chain | chain2 | chain3 | CommaOutPutParser()\n",
    "chain = template | chat | CommaOutPutParser()\n",
    "\"\"\"\n",
    "일부러 template | chat | CommaOutPutParser() 순서를 바꿔봤는데 그러니까 실행이 되지 않았다.\n",
    "\"\"\"\n",
    "\n",
    "# chain 작동\n",
    "# invoke mehtod의 argument는 dictionary(object 모양) type이 들어가야 한다.\n",
    "chain.invoke({\"max_items\": 5, \"question\" : \"What are the Comics?\"})\n",
    "# langchain이 내부에서 template.format_messages, chat.predict, parser 를 호출해준다."
   ]
  }
 ],
 "metadata": {
  "kernelspec": {
   "display_name": "env",
   "language": "python",
   "name": "python3"
  },
  "language_info": {
   "codemirror_mode": {
    "name": "ipython",
    "version": 3
   },
   "file_extension": ".py",
   "mimetype": "text/x-python",
   "name": "python",
   "nbconvert_exporter": "python",
   "pygments_lexer": "ipython3",
   "version": "3.11.6"
  }
 },
 "nbformat": 4,
 "nbformat_minor": 2
}
