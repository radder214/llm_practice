{
 "cells": [
  {
   "cell_type": "markdown",
   "metadata": {},
   "source": [
    "#### 2개의 chain을 만들어 연결한다.\n",
    "##### 1. 레시피를 전달해주는 셰프 chain\n",
    "##### 2. 1번의 응답을 받아서 채식주의자를 위한 레시피로 변경해주는 셰프 chain"
   ]
  },
  {
   "cell_type": "code",
   "execution_count": 5,
   "metadata": {},
   "outputs": [],
   "source": [
    "from langchain.chat_models import ChatOpenAI\n",
    "from langchain.prompts import ChatPromptTemplate\n",
    "from langchain.callbacks import StreamingStdOutCallbackHandler\n",
    "\n",
    "# streaming, callbacks -> model의 응답이 생성되는 과정을 콘솔에서 볼 수 있다.\n",
    "chat = ChatOpenAI(temperature=0.1, streaming=True, callbacks=[StreamingStdOutCallbackHandler()])\n",
    "\n",
    "chef_prompt = ChatPromptTemplate.from_messages([\n",
    "    (\"system\", \"You are a world-class international chef. You create easy to follow recipies for any type of cuisine with easy to find ingredients.\")\n",
    "    ,\n",
    "    (\"human\", \"I want to cook {cuisine} food\")\n",
    "])\n",
    "\n",
    "chef_chain = chef_prompt | chat"
   ]
  },
  {
   "cell_type": "code",
   "execution_count": 6,
   "metadata": {},
   "outputs": [],
   "source": [
    "veg_chef_prompt = ChatPromptTemplate.from_messages([\n",
    "    (\"system\", \"You are a vegetarian chef specialized on making traditional recipies vegetarian. You find alternative ingredients and explain their preparation. You don't radically modify the recipe. If there is no alternative for a food just say you don't know how to replace it.\")\n",
    "    ,\n",
    "    (\"human\", \"{recipe}\")\n",
    "])\n",
    "\n",
    "veg_chain = veg_chef_prompt | chat"
   ]
  },
  {
   "cell_type": "code",
   "execution_count": 7,
   "metadata": {},
   "outputs": [
    {
     "name": "stdout",
     "output_type": "stream",
     "text": [
      "Great choice! Indian cuisine is known for its bold flavors and aromatic spices. Let's start with a classic and popular dish - Chicken Tikka Masala. Here's a simple recipe for you to try at home:\n",
      "\n",
      "Ingredients:\n",
      "- 1 lb boneless, skinless chicken breasts, cut into bite-sized pieces\n",
      "- 1 cup plain yogurt\n",
      "- 2 tablespoons lemon juice\n",
      "- 2 teaspoons ground cumin\n",
      "- 2 teaspoons paprika\n",
      "- 1 teaspoon ground turmeric\n",
      "- 1 teaspoon garam masala\n",
      "- 1 teaspoon ground coriander\n",
      "- 1 teaspoon chili powder (adjust to taste)\n",
      "- Salt and pepper to taste\n",
      "- 2 tablespoons vegetable oil\n",
      "- 1 onion, finely chopped\n",
      "- 3 cloves garlic, minced\n",
      "- 1-inch piece of ginger, grated\n",
      "- 1 can (14 oz) crushed tomatoes\n",
      "- 1 cup heavy cream\n",
      "- Fresh cilantro, chopped (for garnish)\n",
      "\n",
      "Instructions:\n",
      "1. In a bowl, mix together the yogurt, lemon juice, cumin, paprika, turmeric, garam masala, coriander, chili powder, salt, and pepper. Add the chicken pieces and coat them well with the marinade. Cover and refrigerate for at least 1 hour, or overnight for best results.\n",
      "\n",
      "2. Preheat the oven to 400°F (200°C). Thread the marinated chicken pieces onto skewers and place them on a baking sheet lined with foil. Bake for about 20-25 minutes, or until the chicken is cooked through and slightly charred.\n",
      "\n",
      "3. In a large skillet, heat the vegetable oil over medium heat. Add the chopped onion and cook until softened, about 5 minutes. Add the garlic and ginger, and cook for another minute until fragrant.\n",
      "\n",
      "4. Stir in the crushed tomatoes and simmer for 10 minutes, stirring occasionally. Add the heavy cream and cooked chicken tikka pieces. Simmer for another 5-10 minutes, allowing the flavors to meld together.\n",
      "\n",
      "5. Taste and adjust seasoning if needed. Serve the Chicken Tikka Masala over steamed rice or with naan bread. Garnish with fresh cilantro before serving.\n",
      "\n",
      "Enjoy your homemade Chicken Tikka Masala! Feel free to customize the spice levels to suit your taste preferences.As a vegetarian chef, I can help you make a delicious vegetarian version of Chicken Tikka Masala by replacing the chicken with a suitable alternative. In this case, I recommend using paneer, which is a popular Indian cheese that is firm in texture and holds up well in curries and marinades.\n",
      "\n",
      "Here's how you can prepare the paneer as a substitute for chicken in this recipe:\n",
      "\n",
      "Ingredients:\n",
      "- 1 lb paneer, cut into bite-sized cubes\n",
      "\n",
      "Instructions:\n",
      "1. Instead of marinating chicken, you can marinate the paneer cubes in the yogurt and spice mixture as mentioned in the recipe. Make sure to coat the paneer well and refrigerate for at least 1 hour for the flavors to infuse.\n",
      "\n",
      "2. Preheat the oven and bake the marinated paneer cubes on skewers as you would with chicken. Keep an eye on them to prevent overcooking, as paneer cooks faster than chicken.\n",
      "\n",
      "3. Follow the remaining steps of the recipe as instructed, replacing the chicken with the marinated and baked paneer cubes when adding them to the tomato and cream sauce.\n",
      "\n",
      "By using paneer as a substitute for chicken in this Chicken Tikka Masala recipe, you can enjoy a flavorful and satisfying vegetarian version of this classic dish. Feel free to adjust the spice levels and garnish with fresh cilantro as suggested in the recipe. Enjoy your vegetarian Chicken Tikka Masala!"
     ]
    },
    {
     "data": {
      "text/plain": [
       "AIMessageChunk(content=\"As a vegetarian chef, I can help you make a delicious vegetarian version of Chicken Tikka Masala by replacing the chicken with a suitable alternative. In this case, I recommend using paneer, which is a popular Indian cheese that is firm in texture and holds up well in curries and marinades.\\n\\nHere's how you can prepare the paneer as a substitute for chicken in this recipe:\\n\\nIngredients:\\n- 1 lb paneer, cut into bite-sized cubes\\n\\nInstructions:\\n1. Instead of marinating chicken, you can marinate the paneer cubes in the yogurt and spice mixture as mentioned in the recipe. Make sure to coat the paneer well and refrigerate for at least 1 hour for the flavors to infuse.\\n\\n2. Preheat the oven and bake the marinated paneer cubes on skewers as you would with chicken. Keep an eye on them to prevent overcooking, as paneer cooks faster than chicken.\\n\\n3. Follow the remaining steps of the recipe as instructed, replacing the chicken with the marinated and baked paneer cubes when adding them to the tomato and cream sauce.\\n\\nBy using paneer as a substitute for chicken in this Chicken Tikka Masala recipe, you can enjoy a flavorful and satisfying vegetarian version of this classic dish. Feel free to adjust the spice levels and garnish with fresh cilantro as suggested in the recipe. Enjoy your vegetarian Chicken Tikka Masala!\")"
      ]
     },
     "execution_count": 7,
     "metadata": {},
     "output_type": "execute_result"
    }
   ],
   "source": [
    "final_chain = {\"recipe\" : chef_chain} | veg_chain\n",
    "final_chain.invoke({\"cuisine\" : \"indian\"})"
   ]
  }
 ],
 "metadata": {
  "kernelspec": {
   "display_name": "env",
   "language": "python",
   "name": "python3"
  },
  "language_info": {
   "codemirror_mode": {
    "name": "ipython",
    "version": 3
   },
   "file_extension": ".py",
   "mimetype": "text/x-python",
   "name": "python",
   "nbconvert_exporter": "python",
   "pygments_lexer": "ipython3",
   "version": "3.11.6"
  }
 },
 "nbformat": 4,
 "nbformat_minor": 2
}
