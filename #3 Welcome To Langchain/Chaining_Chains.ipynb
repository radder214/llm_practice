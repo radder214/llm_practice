{
 "cells": [
  {
   "cell_type": "markdown",
   "metadata": {},
   "source": [
    "#### 2개의 chain을 만들어 연결한다.\n",
    "##### 1. 레시피를 전달해주는 셰프 chain\n",
    "##### 2. 1번의 응답을 받아서 채식주의자를 위한 레시피로 변경해주는 셰프 chain"
   ]
  },
  {
   "cell_type": "code",
   "execution_count": 8,
   "metadata": {},
   "outputs": [],
   "source": [
    "from langchain.chat_models import ChatOpenAI\n",
    "from langchain.prompts import ChatPromptTemplate\n",
    "from langchain.callbacks import StreamingStdOutCallbackHandler\n",
    "\n",
    "# streaming, callbacks -> model의 응답이 생성되는 과정을 콘솔에서 볼 수 있다.\n",
    "# 전체 응답이 생성될 때까지 멍하니 기다릴 필요가 없다.\n",
    "chat = ChatOpenAI(temperature=0.1, streaming=True, callbacks=[StreamingStdOutCallbackHandler()])\n",
    "\n",
    "chef_prompt = ChatPromptTemplate.from_messages([\n",
    "    (\"system\", \"You are a world-class international chef. You create easy to follow recipies for any type of cuisine with easy to find ingredients.\")\n",
    "    ,\n",
    "    (\"human\", \"I want to cook {cuisine} food\")\n",
    "])\n",
    "\n",
    "chef_chain = chef_prompt | chat"
   ]
  },
  {
   "cell_type": "code",
   "execution_count": 9,
   "metadata": {},
   "outputs": [],
   "source": [
    "\"\"\"\n",
    "If there is no alternative for a food just say you don't know how to replace it.\n",
    "- Hallucination(할루시네이션) 방지를 위해 추가한 문구\n",
    "- LLM이 엉뚱한 답을 생성하는 것을 방지하기 위해 모르면 차라리 모른다고 응답(you don't know)하라고 설정했다.\n",
    "\"\"\"\n",
    "veg_chef_prompt = ChatPromptTemplate.from_messages([\n",
    "    (\"system\", \"You are a vegetarian chef specialized on making traditional recipies vegetarian. You find alternative ingredients and explain their preparation. You don't radically modify the recipe. If there is no alternative for a food just say you don't know how to replace it.\")\n",
    "    ,\n",
    "    (\"human\", \"{recipe}\")\n",
    "])\n",
    "\n",
    "veg_chain = veg_chef_prompt | chat"
   ]
  },
  {
   "cell_type": "code",
   "execution_count": 10,
   "metadata": {},
   "outputs": [
    {
     "name": "stdout",
     "output_type": "stream",
     "text": [
      "Great choice! Indian cuisine is known for its bold flavors and aromatic spices. Let's start with a classic and popular dish - Chicken Tikka Masala. Here's a simple recipe for you to try at home:\n",
      "\n",
      "Ingredients:\n",
      "- 1 lb boneless, skinless chicken breasts, cut into bite-sized pieces\n",
      "- 1 cup plain yogurt\n",
      "- 2 tablespoons lemon juice\n",
      "- 2 teaspoons ground cumin\n",
      "- 2 teaspoons paprika\n",
      "- 1 teaspoon turmeric\n",
      "- 1 teaspoon garam masala\n",
      "- 1 teaspoon ground coriander\n",
      "- 1 teaspoon chili powder (adjust to taste)\n",
      "- 2 tablespoons vegetable oil\n",
      "- 1 onion, finely chopped\n",
      "- 3 cloves garlic, minced\n",
      "- 1-inch piece of ginger, grated\n",
      "- 1 can (14 oz) crushed tomatoes\n",
      "- 1 cup heavy cream\n",
      "- Salt and pepper to taste\n",
      "- Fresh cilantro, for garnish\n",
      "\n",
      "Instructions:\n",
      "1. In a bowl, mix together the yogurt, lemon juice, cumin, paprika, turmeric, garam masala, coriander, and chili powder. Add the chicken pieces and marinate for at least 1 hour, or overnight for best results.\n",
      "\n",
      "2. Heat the vegetable oil in a large skillet over medium heat. Add the onion and cook until softened, about 5 minutes. Add the garlic and ginger, and cook for another minute.\n",
      "\n",
      "3. Add the marinated chicken pieces to the skillet, along with the marinade. Cook until the chicken is browned on all sides, about 8-10 minutes.\n",
      "\n",
      "4. Stir in the crushed tomatoes and simmer for 15-20 minutes, stirring occasionally.\n",
      "\n",
      "5. Pour in the heavy cream and season with salt and pepper. Simmer for an additional 10 minutes, or until the chicken is cooked through and the sauce has thickened.\n",
      "\n",
      "6. Garnish with fresh cilantro and serve hot with steamed rice or naan bread.\n",
      "\n",
      "Enjoy your homemade Chicken Tikka Masala! Feel free to adjust the spice levels to suit your taste preferences.For a vegetarian version of Chicken Tikka Masala, you can replace the chicken with a plant-based alternative such as tofu or paneer. Here's how you can prepare these alternatives:\n",
      "\n",
      "1. **Tofu**: \n",
      "   - Use firm or extra-firm tofu for this recipe.\n",
      "   - Press the tofu to remove excess water: Place the block of tofu between paper towels or kitchen towels, then place a heavy object on top (like a cast-iron skillet) for about 15-30 minutes.\n",
      "   - Cut the tofu into bite-sized cubes and follow the marinating instructions in the recipe. Tofu absorbs flavors well, so marinating it for a good amount of time will enhance the taste.\n",
      "\n",
      "2. **Paneer**:\n",
      "   - Paneer is a fresh cheese commonly used in Indian cuisine.\n",
      "   - You can either make your own paneer at home by curdling hot milk with lemon juice or vinegar, straining the curds, and pressing them into a block. Or you can buy paneer from the store.\n",
      "   - Cut the paneer into cubes and follow the marinating instructions in the recipe. Paneer is delicate, so marinate it for a shorter time compared to tofu.\n",
      "\n",
      "By using tofu or paneer as a substitute for chicken, you can enjoy a flavorful and vegetarian-friendly version of Chicken Tikka Masala."
     ]
    },
    {
     "data": {
      "text/plain": [
       "AIMessageChunk(content=\"For a vegetarian version of Chicken Tikka Masala, you can replace the chicken with a plant-based alternative such as tofu or paneer. Here's how you can prepare these alternatives:\\n\\n1. **Tofu**: \\n   - Use firm or extra-firm tofu for this recipe.\\n   - Press the tofu to remove excess water: Place the block of tofu between paper towels or kitchen towels, then place a heavy object on top (like a cast-iron skillet) for about 15-30 minutes.\\n   - Cut the tofu into bite-sized cubes and follow the marinating instructions in the recipe. Tofu absorbs flavors well, so marinating it for a good amount of time will enhance the taste.\\n\\n2. **Paneer**:\\n   - Paneer is a fresh cheese commonly used in Indian cuisine.\\n   - You can either make your own paneer at home by curdling hot milk with lemon juice or vinegar, straining the curds, and pressing them into a block. Or you can buy paneer from the store.\\n   - Cut the paneer into cubes and follow the marinating instructions in the recipe. Paneer is delicate, so marinate it for a shorter time compared to tofu.\\n\\nBy using tofu or paneer as a substitute for chicken, you can enjoy a flavorful and vegetarian-friendly version of Chicken Tikka Masala.\")"
      ]
     },
     "execution_count": 10,
     "metadata": {},
     "output_type": "execute_result"
    }
   ],
   "source": [
    "\n",
    "# chef_chain의 응답을 \"recipe\"에 담은 후 veg_chain을 호출한다.\n",
    "# 굳이 따지면 이런식이 되는 것이다. --> veg_chain.invoke({\"recipe\" : chef_chain})\n",
    "final_chain = {\"recipe\" : chef_chain} | veg_chain\n",
    "final_chain.invoke({\"cuisine\" : \"indian\"})"
   ]
  }
 ],
 "metadata": {
  "kernelspec": {
   "display_name": "env",
   "language": "python",
   "name": "python3"
  },
  "language_info": {
   "codemirror_mode": {
    "name": "ipython",
    "version": 3
   },
   "file_extension": ".py",
   "mimetype": "text/x-python",
   "name": "python",
   "nbconvert_exporter": "python",
   "pygments_lexer": "ipython3",
   "version": "3.11.6"
  }
 },
 "nbformat": 4,
 "nbformat_minor": 2
}
