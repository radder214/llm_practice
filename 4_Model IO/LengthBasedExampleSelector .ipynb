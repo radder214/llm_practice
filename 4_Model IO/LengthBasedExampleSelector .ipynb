{
 "cells": [
  {
   "cell_type": "code",
   "execution_count": 27,
   "metadata": {},
   "outputs": [],
   "source": [
    "from typing import Dict, List\n",
    "from langchain.chat_models import ChatOpenAI\n",
    "from langchain.callbacks import StreamingStdOutCallbackHandler\n",
    "from langchain.prompts.few_shot import FewShotPromptTemplate\n",
    "from langchain.prompts import PromptTemplate \n",
    "from langchain.prompts.example_selector import LengthBasedExampleSelector\n",
    "from langchain.prompts.example_selector.base import BaseExampleSelector\n",
    "\n",
    "chat = ChatOpenAI(\n",
    "    temperature = 0.1\n",
    "    , streaming = True\n",
    "    , callbacks = [StreamingStdOutCallbackHandler()]\n",
    ")"
   ]
  },
  {
   "cell_type": "code",
   "execution_count": 28,
   "metadata": {},
   "outputs": [],
   "source": [
    "# 제공하는 예제 -> model이 이런 식으로 답변하면 좋겠다.\n",
    "from typing import Any, Dict\n",
    "\n",
    "\n",
    "examples = [\n",
    "    {\n",
    "    \"question\": \"France?\",\n",
    "    \"answer\": \"\"\"\n",
    "        Here is what I know:\n",
    "        Capital: Paris\n",
    "        Language: French\n",
    "        Food: Wine and Cheese\n",
    "        Currency: Euro\n",
    "    \"\"\",\n",
    "    },\n",
    "    {\n",
    "    \"question\": \"Italy?\",\n",
    "    \"answer\": '''\n",
    "        I know this:\n",
    "        Capital: Rome\n",
    "        Language: Italian\n",
    "        Food: Pizza and Pasta\n",
    "        Currency: Euro\n",
    "    ''',\n",
    "    },\n",
    "    {\n",
    "    \"question\": \"Greece?\",\n",
    "    \"answer\": '''\n",
    "        I know this:\n",
    "        Capital: Athens\n",
    "        Language: Greek\n",
    "        Food: Souvlaki and Feta Cheese\n",
    "        Currency: Euro\n",
    "    ''',\n",
    "    },\n",
    "]\n",
    "\n",
    "class RandomExampleSelector(BaseExampleSelector):\n",
    "    def __init__(self, examples):\n",
    "        self.examples = examples\n",
    "\n",
    "    def add_example(self, example):\n",
    "        self.examples.append(example)\n",
    "\n",
    "    def select_examples(self, input_variables):\n",
    "        from random import choice\n",
    "        return [choice(self.examples)]"
   ]
  },
  {
   "cell_type": "code",
   "execution_count": 30,
   "metadata": {},
   "outputs": [
    {
     "data": {
      "text/plain": [
       "'\\n    Human:Italy?\\n    AI:\\n        I know this:\\n        Capital: Rome\\n        Language: Italian\\n        Food: Pizza and Pasta\\n        Currency: Euro\\n    \"\\n\\n\\nHuman: What do you know about Japan?'"
      ]
     },
     "execution_count": 30,
     "metadata": {},
     "output_type": "execute_result"
    }
   ],
   "source": [
    "example_prompt = PromptTemplate.from_template(\n",
    "\"\"\"\n",
    "    Human:{question}\n",
    "    AI:{answer}\"\n",
    "\"\"\"\n",
    ")\n",
    "\n",
    "example_selector = RandomExampleSelector(\n",
    "    examples       = examples\n",
    ")\n",
    "\n",
    "prompt = FewShotPromptTemplate(\n",
    "    example_prompt   = example_prompt,\n",
    "    example_selector = example_selector,\n",
    "    suffix           = \"Human: What do you know about {country}?\",\n",
    "    input_variables  = [\"country\"]\n",
    ")\n",
    "\n",
    "prompt.format(country=\"Japan\")\n",
    "\n",
    "# chain = prompt | chat\n",
    "# chain.invoke({\n",
    "#     \"country\":\"Taiwan\"\n",
    "# })"
   ]
  }
 ],
 "metadata": {
  "kernelspec": {
   "display_name": "env",
   "language": "python",
   "name": "python3"
  },
  "language_info": {
   "codemirror_mode": {
    "name": "ipython",
    "version": 3
   },
   "file_extension": ".py",
   "mimetype": "text/x-python",
   "name": "python",
   "nbconvert_exporter": "python",
   "pygments_lexer": "ipython3",
   "version": "3.11.6"
  }
 },
 "nbformat": 4,
 "nbformat_minor": 2
}
