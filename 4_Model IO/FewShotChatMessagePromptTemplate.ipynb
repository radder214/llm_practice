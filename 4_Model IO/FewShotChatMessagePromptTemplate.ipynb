{
 "cells": [
  {
   "cell_type": "code",
   "execution_count": 1,
   "metadata": {},
   "outputs": [],
   "source": [
    "from langchain.chat_models import ChatOpenAI\n",
    "from langchain.prompts import ChatPromptTemplate, FewShotChatMessagePromptTemplate\n",
    "from langchain.callbacks import StreamingStdOutCallbackHandler\n",
    "\n",
    "chat = ChatOpenAI(\n",
    "    temperature = 0.1\n",
    "    , streaming = True\n",
    "    , callbacks = [StreamingStdOutCallbackHandler()]\n",
    ")"
   ]
  },
  {
   "cell_type": "code",
   "execution_count": 2,
   "metadata": {},
   "outputs": [],
   "source": [
    "# 제공하는 예제 -> model이 이런 식으로 답변하면 좋겠다.\n",
    "examples = [\n",
    "    {\n",
    "    \"question\": \"France?\",\n",
    "    \"answer\": \"\"\"\n",
    "        Here is what I know:\n",
    "        Capital: Paris\n",
    "        Language: French\n",
    "        Food: Wine and Cheese\n",
    "        Currency: Euro\n",
    "    \"\"\",\n",
    "    },\n",
    "    {\n",
    "    \"question\": \"Italy?\",\n",
    "    \"answer\": '''\n",
    "        I know this:\n",
    "        Capital: Rome\n",
    "        Language: Italian\n",
    "        Food: Pizza and Pasta\n",
    "        Currency: Euro\n",
    "    ''',\n",
    "    },\n",
    "    {\n",
    "    \"question\": \"Greece?\",\n",
    "    \"answer\": '''\n",
    "        I know this:\n",
    "        Capital: Athens\n",
    "        Language: Greek\n",
    "        Food: Souvlaki and Feta Cheese\n",
    "        Currency: Euro\n",
    "    ''',\n",
    "    },\n",
    "]"
   ]
  },
  {
   "cell_type": "code",
   "execution_count": 3,
   "metadata": {},
   "outputs": [
    {
     "name": "stdout",
     "output_type": "stream",
     "text": [
      "I know this:\n",
      "        Capital: Seoul\n",
      "        Language: Korean\n",
      "        Food: Kimchi and Bibimbap\n",
      "        Currency: South Korean Won\n",
      "        Landmarks: The Demilitarized Zone (DMZ), Gyeongbokgung Palace, Jeju Island"
     ]
    },
    {
     "data": {
      "text/plain": [
       "AIMessageChunk(content='I know this:\\n        Capital: Seoul\\n        Language: Korean\\n        Food: Kimchi and Bibimbap\\n        Currency: South Korean Won\\n        Landmarks: The Demilitarized Zone (DMZ), Gyeongbokgung Palace, Jeju Island')"
      ]
     },
     "execution_count": 3,
     "metadata": {},
     "output_type": "execute_result"
    }
   ],
   "source": [
    "# 예제 형식 지정\n",
    "example_prompt = ChatPromptTemplate.from_messages(\n",
    "    [\n",
    "    (\"human\", \"What do you know about {question}?\")\n",
    "    ,\n",
    "    (\"ai\"   , \"{answer}\")\n",
    "    ]\n",
    ")\n",
    "\n",
    "# 이런식으로 답변하라고 예제 제공\n",
    "example_prompt = FewShotChatMessagePromptTemplate(\n",
    "    example_prompt = example_prompt,\n",
    "    examples       = examples\n",
    ")\n",
    "\n",
    "# 위의 예제를 가지고 진짜로 질문을 던질 prmopt 생성\n",
    "# (\"system\", ...), (\"human\", ...) --> 해당 과정이 한 번더 필요하니까 ChatPromptTemplate.from_messages 를 2번 사용한 듯\n",
    "final_prompt = ChatPromptTemplate.from_messages(\n",
    "    [\n",
    "        (\"system\", \"You are a geography expert\")\n",
    "        , (\"human\", \"What do you know about {question}?\")\n",
    "        , example_prompt\n",
    "    ]\n",
    ")\n",
    "\n",
    "chain = final_prompt | chat\n",
    "chain.invoke({\"question\":\"Korea\"})"
   ]
  }
 ],
 "metadata": {
  "kernelspec": {
   "display_name": "env",
   "language": "python",
   "name": "python3"
  },
  "language_info": {
   "codemirror_mode": {
    "name": "ipython",
    "version": 3
   },
   "file_extension": ".py",
   "mimetype": "text/x-python",
   "name": "python",
   "nbconvert_exporter": "python",
   "pygments_lexer": "ipython3",
   "version": "3.11.6"
  }
 },
 "nbformat": 4,
 "nbformat_minor": 2
}
