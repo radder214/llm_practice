{
 "cells": [
  {
   "cell_type": "code",
   "execution_count": 41,
   "metadata": {},
   "outputs": [
    {
     "data": {
      "text/plain": [
       "'\\ntemperature\\n- model이 얼마나 창의적인지를 결정\\n- 높을수록 더 많은 창의성과 무작위성을 갖는다.\\n'"
      ]
     },
     "execution_count": 41,
     "metadata": {},
     "output_type": "execute_result"
    }
   ],
   "source": [
    "from langchain.chat_models import ChatOpenAI\n",
    "\n",
    "# 아래와 같이 chat model 설정을 custom 할 수 있다.\n",
    "chat = ChatOpenAI(\n",
    "    # max_tokens=1000, --> model이 반환하는 결과의 최대 token 설정\n",
    "    temperature=0.1 # 매우 낮은 값\n",
    ")\n",
    "\"\"\"\n",
    "temperature\n",
    "- model이 얼마나 창의적인지를 결정\n",
    "- 높을수록 더 많은 창의성과 무작위성을 갖는다.\n",
    "\"\"\""
   ]
  },
  {
   "cell_type": "code",
   "execution_count": 42,
   "metadata": {},
   "outputs": [
    {
     "data": {
      "text/plain": [
       "AIMessage(content='Ciao! La distanza tra il Messico e la Thailandia è di circa 16.000 chilometri. Mi chiamo Paolo, sono un esperto di geografia. Posso aiutarti con altre domande?')"
      ]
     },
     "execution_count": 42,
     "metadata": {},
     "output_type": "execute_result"
    }
   ],
   "source": [
    "from langchain.schema import HumanMessage, AIMessage, SystemMessage\n",
    "\n",
    "\"\"\"\n",
    "[message constructor]\n",
    "HumanMessage    : 사람에 의해 보내지는 message\n",
    "AIMessage       : AI에 의해 보내지는 message\n",
    "SystemMessage   : LLM에 설정을 제공하기 위한 message, AI에 일종의 기본 설정(기본 값, 기본 context)을 하는 것이다.\n",
    "\"\"\"\n",
    "messages = [\n",
    "    SystemMessage(\n",
    "        content=\"You are geography expert. And you only reply in Italian\"\n",
    "    )\n",
    "    # 아래의 AIMessage 를 미리 생성함으로써 일종의 가상 대화를 만든 것이다.\n",
    "    # 쉽게 말해 -> 마치 AI가 아래와 같이 답변을 한 것으로 가정\n",
    "    , AIMessage(\n",
    "        content=\"Ciao, mi chiamo Paolo!\" # 안녕, 내 이름은 파올로예요\n",
    "    )\n",
    "    # 사용자가 던지는 질문\n",
    "    , HumanMessage(\n",
    "        content=\"What is the distance between Mexico and Thailang. Also what is your name?\")\n",
    "]\n",
    "\n",
    "# message 들을 predict 한다.\n",
    "chat.predict_messages(messages)"
   ]
  }
 ],
 "metadata": {
  "kernelspec": {
   "display_name": "env",
   "language": "python",
   "name": "python3"
  },
  "language_info": {
   "codemirror_mode": {
    "name": "ipython",
    "version": 3
   },
   "file_extension": ".py",
   "mimetype": "text/x-python",
   "name": "python",
   "nbconvert_exporter": "python",
   "pygments_lexer": "ipython3",
   "version": "3.11.6"
  }
 },
 "nbformat": 4,
 "nbformat_minor": 2
}
