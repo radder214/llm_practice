{
 "cells": [
  {
   "cell_type": "code",
   "execution_count": 12,
   "metadata": {},
   "outputs": [
    {
     "data": {
      "text/plain": [
       "('\\n\\nThere are currently eight planets in our solar system: Mercury, Venus, Earth, Mars, Jupiter, Saturn, Uranus, and Neptune. However, there may be more planets beyond our solar system that have yet to be discovered.',\n",
       " 'There are 8 planets in our solar system: Mercury, Venus, Earth, Mars, Jupiter, Saturn, Uranus, and Neptune.')"
      ]
     },
     "execution_count": 12,
     "metadata": {},
     "output_type": "execute_result"
    }
   ],
   "source": [
    "from langchain.llms.openai import OpenAI\n",
    "from langchain.chat_models import ChatOpenAI\n",
    "\n",
    "# LLM\n",
    "llm  = OpenAI(model=\"gpt-3.5-turbo-instruct\")   # deprecated --> model_name=text-davinci-003\n",
    "# Chat Model\n",
    "chat = ChatOpenAI()                             # model_name=gpt-3.5-turbo\n",
    "\n",
    "# OpenAI model과 ChatOpenAI model은 기본 동작으로\n",
    "# 환경변수(.env 파일)에서 정확히 변수 'OPENAI_API_KEY' 의 값을 찾는다.\n",
    "# 따라서 반드시 변수명이 OPENAI_API_KEY 여야 한다.\n",
    "# 파일 이름도 반드시 '.env' 여야 한다.\n",
    "a = llm.predict(\"How many planets are there?\")\n",
    "b = chat.predict(\"How many planets are there?\")\n",
    "\n",
    "a, b"
   ]
  },
  {
   "cell_type": "code",
   "execution_count": null,
   "metadata": {},
   "outputs": [],
   "source": [
    "\"\"\"\n",
    "아래와 같이 생성자에 직접 API KEY 값을 넣어줘도 된다. 근데 보안 때문에 안 쓸 듯\n",
    "llm = OpenAI(openai_api_key=\"blahblahblah\")\n",
    "\"\"\"\n",
    "\n",
    "\"\"\"\n",
    "- Opanai에서 Anthropic으로 변경하고 싶으면 아래 코드만 추가하면 된다.\n",
    "- 이것이 langChain의 강력함이다.\n",
    "- API가 통합되었기에 굳이 Anthropic 만의 API 사용법을 알 필요가 없다.\n",
    "\n",
    "from langchain.chat_models import ChatAnthropic\n",
    "chatAnthropic = ChatAnthropic()\n",
    "chatAnthropic.predict(\"How many planets are there?\")\n",
    "\"\"\""
   ]
  }
 ],
 "metadata": {
  "kernelspec": {
   "display_name": "env",
   "language": "python",
   "name": "python3"
  },
  "language_info": {
   "codemirror_mode": {
    "name": "ipython",
    "version": 3
   },
   "file_extension": ".py",
   "mimetype": "text/x-python",
   "name": "python",
   "nbconvert_exporter": "python",
   "pygments_lexer": "ipython3",
   "version": "3.11.6"
  }
 },
 "nbformat": 4,
 "nbformat_minor": 2
}
