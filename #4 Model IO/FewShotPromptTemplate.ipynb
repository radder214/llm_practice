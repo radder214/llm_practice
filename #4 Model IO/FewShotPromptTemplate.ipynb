{
 "cells": [
  {
   "cell_type": "code",
   "execution_count": 4,
   "metadata": {},
   "outputs": [],
   "source": [
    "from langchain.chat_models import ChatOpenAI\n",
    "from langchain.prompts import PromptTemplate, FewShotPromptTemplate\n",
    "from langchain.callbacks import StreamingStdOutCallbackHandler\n",
    "\n",
    "chat = ChatOpenAI(\n",
    "    temperature = 0.1\n",
    "    , streaming = True\n",
    "    , callbacks = [StreamingStdOutCallbackHandler()]\n",
    ")"
   ]
  },
  {
   "cell_type": "code",
   "execution_count": 5,
   "metadata": {},
   "outputs": [],
   "source": [
    "# 제공하는 예제 -> model이 이런 식으로 답변하면 좋겠다.\n",
    "examples = [\n",
    "    {\n",
    "    \"question\": \"What do you know about France?\",\n",
    "    # 원하는 답변의 형태\n",
    "    \"answer\": \"\"\"\n",
    "        Here is what I know:\n",
    "        Capital: Paris\n",
    "        Language: French\n",
    "        Food: Wine and Cheese\n",
    "        Currency: Euro\n",
    "    \"\"\",\n",
    "    },\n",
    "    {\n",
    "    \"question\": \"What do you know about Italy?\",\n",
    "    # 원하는 답변의 형태\n",
    "    \"answer\": '''\n",
    "        I know this:\n",
    "        Capital: Rome\n",
    "        Language: Italian\n",
    "        Food: Pizza and Pasta\n",
    "        Currency: Euro\n",
    "    ''',\n",
    "    },\n",
    "    {\n",
    "    \"question\": \"What do you know about Greece?\",\n",
    "    # 원하는 답변의 형태\n",
    "    \"answer\": '''\n",
    "        I know this:\n",
    "        Capital: Athens\n",
    "        Language: Greek\n",
    "        Food: Souvlaki and Feta Cheese\n",
    "        Currency: Euro\n",
    "    ''',\n",
    "    },\n",
    "]"
   ]
  },
  {
   "cell_type": "code",
   "execution_count": 11,
   "metadata": {},
   "outputs": [
    {
     "name": "stdout",
     "output_type": "stream",
     "text": [
      "AI: \n",
      "I know the following information about Haiti:\n",
      "Capital: Port-au-Prince\n",
      "Language: Haitian Creole and French\n",
      "Food: Griot (fried pork) and rice and beans\n",
      "Currency: Haitian Gourde"
     ]
    },
    {
     "data": {
      "text/plain": [
       "AIMessageChunk(content='AI: \\nI know the following information about Haiti:\\nCapital: Port-au-Prince\\nLanguage: Haitian Creole and French\\nFood: Griot (fried pork) and rice and beans\\nCurrency: Haitian Gourde')"
      ]
     },
     "execution_count": 11,
     "metadata": {},
     "output_type": "execute_result"
    }
   ],
   "source": [
    "# 예제 형식 지정(예제를 형식화한다.)\n",
    "example_prompt = PromptTemplate.from_template(\n",
    "\"\"\"\n",
    "    Human:{question}\n",
    "    AI:{answer}\"\n",
    "\"\"\"\n",
    ")\n",
    "\n",
    "prompt = FewShotPromptTemplate(\n",
    "    example_prompt  = example_prompt,\n",
    "\n",
    "    # langchain이 각각의 예제 리스트들을 example_prompt 를 사용해 형식화\n",
    "    examples        = examples,\n",
    "\n",
    "    # 사용자의 질문 형식 지정\n",
    "    suffix          = \"Human: What do you know about {country}?\",\n",
    "\n",
    "    # suffix에서 어떤 변수를 사용할 것인지 지정\n",
    "    input_variables = [\"country\"]\n",
    ")\n",
    "\n",
    "chain = prompt | chat\n",
    "chain.invoke({\n",
    "    \"country\":\"Haiti\"\n",
    "})"
   ]
  }
 ],
 "metadata": {
  "kernelspec": {
   "display_name": "env",
   "language": "python",
   "name": "python3"
  },
  "language_info": {
   "codemirror_mode": {
    "name": "ipython",
    "version": 3
   },
   "file_extension": ".py",
   "mimetype": "text/x-python",
   "name": "python",
   "nbconvert_exporter": "python",
   "pygments_lexer": "ipython3",
   "version": "3.11.6"
  }
 },
 "nbformat": 4,
 "nbformat_minor": 2
}
