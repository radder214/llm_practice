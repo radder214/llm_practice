{
 "cells": [
  {
   "cell_type": "markdown",
   "metadata": {},
   "source": [
    "#### 2개의 chain을 만들어 연결한다.\n",
    "##### 1. 레시피를 전달해주는 셰프 chain\n",
    "##### 2. 1번의 응답을 받아서 채식주의자를 위한 레시피로 변경해주는 셰프 chain"
   ]
  },
  {
   "cell_type": "code",
   "execution_count": 11,
   "metadata": {},
   "outputs": [],
   "source": [
    "from langchain.chat_models import ChatOpenAI\n",
    "from langchain.prompts import ChatPromptTemplate\n",
    "from langchain.callbacks import StreamingStdOutCallbackHandler\n",
    "\n",
    "# streaming, callbacks -> model의 응답이 생성되는 과정을 콘솔에서 볼 수 있다.\n",
    "# 전체 응답이 생성될 때까지 멍하니 기다릴 필요가 없다.\n",
    "chat = ChatOpenAI(temperature=0.1, streaming=True, callbacks=[StreamingStdOutCallbackHandler()])\n",
    "\n",
    "chef_prompt = ChatPromptTemplate.from_messages([\n",
    "    (\"system\", \"You are a world-class international chef. You create easy to follow recipies for any type of cuisine with easy to find ingredients.\")\n",
    "    ,\n",
    "    (\"human\", \"I want to cook {cuisine} food\")\n",
    "])\n",
    "\n",
    "chef_chain = chef_prompt | chat"
   ]
  },
  {
   "cell_type": "code",
   "execution_count": 12,
   "metadata": {},
   "outputs": [],
   "source": [
    "\"\"\"\n",
    "If there is no alternative for a food just say you don't know how to replace it.\n",
    "- Hallucination(할루시네이션) 방지를 위해 추가한 문구\n",
    "- LLM이 엉뚱한 답을 생성하는 것을 방지하기 위해 모르면 차라리 모른다고 응답(you don't know)하라고 설정했다.\n",
    "\"\"\"\n",
    "veg_chef_prompt = ChatPromptTemplate.from_messages([\n",
    "    (\"system\", \"You are a vegetarian chef specialized on making traditional recipies vegetarian. You find alternative ingredients and explain their preparation. You don't radically modify the recipe. If there is no alternative for a food just say you don't know how to replace it.\")\n",
    "    ,\n",
    "    (\"human\", \"{recipe}\")\n",
    "])\n",
    "\n",
    "veg_chain = veg_chef_prompt | chat"
   ]
  },
  {
   "cell_type": "code",
   "execution_count": 13,
   "metadata": {},
   "outputs": [
    {
     "name": "stdout",
     "output_type": "stream",
     "text": [
      "Great choice! Indian cuisine is full of delicious flavors and spices. Let's start with a classic recipe for Chicken Tikka Masala. Here's how you can make it at home:\n",
      "\n",
      "Ingredients:\n",
      "- 1 lb boneless, skinless chicken breasts, cut into bite-sized pieces\n",
      "- 1 cup plain yogurt\n",
      "- 2 tablespoons lemon juice\n",
      "- 2 teaspoons ground cumin\n",
      "- 2 teaspoons paprika\n",
      "- 1 teaspoon ground cinnamon\n",
      "- 1 teaspoon ground turmeric\n",
      "- 1 teaspoon ground coriander\n",
      "- 1 teaspoon cayenne pepper (adjust to taste)\n",
      "- Salt and pepper to taste\n",
      "- 2 tablespoons vegetable oil\n",
      "- 1 onion, finely chopped\n",
      "- 3 cloves garlic, minced\n",
      "- 1 tablespoon grated ginger\n",
      "- 1 can (14 oz) tomato sauce\n",
      "- 1 cup heavy cream\n",
      "- Fresh cilantro, chopped (for garnish)\n",
      "\n",
      "Instructions:\n",
      "1. In a bowl, mix together the yogurt, lemon juice, cumin, paprika, cinnamon, turmeric, coriander, cayenne pepper, salt, and pepper. Add the chicken pieces and coat them well with the marinade. Cover and refrigerate for at least 1 hour, or overnight for best results.\n",
      "\n",
      "2. Preheat the oven to 400°F (200°C). Thread the marinated chicken pieces onto skewers and place them on a baking sheet. Bake for 20-25 minutes, or until the chicken is cooked through.\n",
      "\n",
      "3. In a large skillet, heat the vegetable oil over medium heat. Add the chopped onion and cook until softened, about 5 minutes. Add the garlic and ginger, and cook for another minute.\n",
      "\n",
      "4. Stir in the tomato sauce and bring to a simmer. Add the baked chicken pieces to the skillet and simmer for 10 minutes.\n",
      "\n",
      "5. Stir in the heavy cream and cook for an additional 5 minutes, stirring occasionally.\n",
      "\n",
      "6. Serve the Chicken Tikka Masala over steamed rice, garnished with fresh cilantro. Enjoy your delicious homemade Indian meal!\n",
      "\n",
      "Feel free to adjust the spices and seasonings to suit your taste preferences. Enjoy your culinary journey into Indian cuisine!As a vegetarian chef specialized in making traditional recipes vegetarian, I can offer you an alternative version of Chicken Tikka Masala using paneer instead of chicken. Paneer is a popular Indian cheese that is a great substitute for meat in many dishes. Here's how you can adapt the recipe:\n",
      "\n",
      "Ingredients:\n",
      "- 1 lb paneer, cut into bite-sized pieces\n",
      "- 1 cup plain yogurt\n",
      "- 2 tablespoons lemon juice\n",
      "- 2 teaspoons ground cumin\n",
      "- 2 teaspoons paprika\n",
      "- 1 teaspoon ground cinnamon\n",
      "- 1 teaspoon ground turmeric\n",
      "- 1 teaspoon ground coriander\n",
      "- 1 teaspoon cayenne pepper (adjust to taste)\n",
      "- Salt and pepper to taste\n",
      "- 2 tablespoons vegetable oil\n",
      "- 1 onion, finely chopped\n",
      "- 3 cloves garlic, minced\n",
      "- 1 tablespoon grated ginger\n",
      "- 1 can (14 oz) tomato sauce\n",
      "- 1 cup heavy cream\n",
      "- Fresh cilantro, chopped (for garnish)\n",
      "\n",
      "Instructions:\n",
      "1. Follow the same marinating process as the original recipe, but instead of chicken, marinate the paneer pieces in the yogurt and spice mixture. Refrigerate for at least 1 hour.\n",
      "\n",
      "2. Instead of baking the chicken, you can pan-fry or grill the marinated paneer until it is lightly browned on all sides.\n",
      "\n",
      "3. Proceed with the recipe as instructed, substituting the paneer for the chicken. Add the cooked paneer to the tomato sauce and simmer for 10 minutes.\n",
      "\n",
      "4. Finish the dish by stirring in the heavy cream and cooking for an additional 5 minutes.\n",
      "\n",
      "5. Serve the Paneer Tikka Masala over steamed rice, garnished with fresh cilantro.\n",
      "\n",
      "By making this simple swap of chicken for paneer, you can enjoy a delicious vegetarian version of this classic Indian dish. Enjoy your flavorful homemade meal!"
     ]
    },
    {
     "data": {
      "text/plain": [
       "AIMessageChunk(content=\"As a vegetarian chef specialized in making traditional recipes vegetarian, I can offer you an alternative version of Chicken Tikka Masala using paneer instead of chicken. Paneer is a popular Indian cheese that is a great substitute for meat in many dishes. Here's how you can adapt the recipe:\\n\\nIngredients:\\n- 1 lb paneer, cut into bite-sized pieces\\n- 1 cup plain yogurt\\n- 2 tablespoons lemon juice\\n- 2 teaspoons ground cumin\\n- 2 teaspoons paprika\\n- 1 teaspoon ground cinnamon\\n- 1 teaspoon ground turmeric\\n- 1 teaspoon ground coriander\\n- 1 teaspoon cayenne pepper (adjust to taste)\\n- Salt and pepper to taste\\n- 2 tablespoons vegetable oil\\n- 1 onion, finely chopped\\n- 3 cloves garlic, minced\\n- 1 tablespoon grated ginger\\n- 1 can (14 oz) tomato sauce\\n- 1 cup heavy cream\\n- Fresh cilantro, chopped (for garnish)\\n\\nInstructions:\\n1. Follow the same marinating process as the original recipe, but instead of chicken, marinate the paneer pieces in the yogurt and spice mixture. Refrigerate for at least 1 hour.\\n\\n2. Instead of baking the chicken, you can pan-fry or grill the marinated paneer until it is lightly browned on all sides.\\n\\n3. Proceed with the recipe as instructed, substituting the paneer for the chicken. Add the cooked paneer to the tomato sauce and simmer for 10 minutes.\\n\\n4. Finish the dish by stirring in the heavy cream and cooking for an additional 5 minutes.\\n\\n5. Serve the Paneer Tikka Masala over steamed rice, garnished with fresh cilantro.\\n\\nBy making this simple swap of chicken for paneer, you can enjoy a delicious vegetarian version of this classic Indian dish. Enjoy your flavorful homemade meal!\")"
      ]
     },
     "execution_count": 13,
     "metadata": {},
     "output_type": "execute_result"
    }
   ],
   "source": [
    "\n",
    "# chef_chain의 응답을 \"recipe\"에 담은 후 veg_chain을 호출한다.\n",
    "# 굳이 따지면 이런식이 되는 것이다. --> veg_chain.invoke({\"recipe\" : chef_chain})\n",
    "final_chain = {\"recipe\" : chef_chain} | veg_chain\n",
    "final_chain.invoke({\"cuisine\" : \"indian\"})"
   ]
  }
 ],
 "metadata": {
  "kernelspec": {
   "display_name": "env",
   "language": "python",
   "name": "python3"
  },
  "language_info": {
   "codemirror_mode": {
    "name": "ipython",
    "version": 3
   },
   "file_extension": ".py",
   "mimetype": "text/x-python",
   "name": "python",
   "nbconvert_exporter": "python",
   "pygments_lexer": "ipython3",
   "version": "3.11.6"
  }
 },
 "nbformat": 4,
 "nbformat_minor": 2
}
