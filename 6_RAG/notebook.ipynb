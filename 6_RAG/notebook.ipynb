{
 "cells": [
  {
   "cell_type": "markdown",
   "metadata": {},
   "source": [
    "##### package install"
   ]
  },
  {
   "cell_type": "code",
   "execution_count": 12,
   "metadata": {},
   "outputs": [],
   "source": [
    "# %pip install langchain.chat_model\n",
    "# %pip install langchain\n",
    "# %pip install openai\n",
    "# %pip install langchain_community\n",
    "# %pip install pypdf\n",
    "# %pip install unstructured\n",
    "# %pip install python-magic-bin\n",
    "# %pip install \"unstructured[docx]\"\n",
    "# %pip install -U langchain-openai langchain-unstructured\n",
    "\n",
    "\n",
    "# %pip check\n",
    "# %pip list | findstr \"^langchain\""
   ]
  },
  {
   "cell_type": "markdown",
   "metadata": {},
   "source": [
    "##### 문서 load"
   ]
  },
  {
   "cell_type": "code",
   "execution_count": null,
   "metadata": {},
   "outputs": [],
   "source": [
    "from langchain.chat_models import ChatOpenAI\n",
    "from langchain.document_loaders import TextLoader\n",
    "from langchain.document_loaders import PyPDFLoader\n",
    "from langchain.document_loaders import UnstructuredFileLoader # 다양한 확장자의 파일을 열 수 있다.\n",
    "\n",
    "loader = TextLoader(\"./files/chapter_one.txt\")\n",
    "loader.load()\n",
    "\n",
    "loader2 = PyPDFLoader(\"./files/chapter_one.pdf\")\n",
    "loader2.load()\n",
    "\n",
    "loader3 = UnstructuredFileLoader(\"./files/chapter_one.docx\")\n",
    "loader3.load()"
   ]
  },
  {
   "cell_type": "markdown",
   "metadata": {},
   "source": [
    "##### 문서 분할\n",
    "- 문서의 덩어리가 너무 크기 때문에 나눠야 한다.\n",
    "    - LLM 에게 질문과 연관된 자료를 줄 때 필요한 '파일의 부분들'만 전달할 수 있다.\n",
    "    - 답변 생성에 필요한 것을 더 찾기 쉽다.\n",
    "    - 그러면 Prompt 의 길이도 짧아진다. by 딱 필요한 부분만 주기 때문에\n",
    "\n",
    "##### 이를 위해\n",
    "- 문서의 모든 문자를 조각낸다.(모든 문자를 작은 조각들로 만든다.)"
   ]
  },
  {
   "cell_type": "code",
   "execution_count": null,
   "metadata": {},
   "outputs": [],
   "source": [
    "# 일반적인 Text Splitter\n",
    "from langchain.text_splitter import RecursiveCharacterTextSplitter"
   ]
  }
 ],
 "metadata": {
  "kernelspec": {
   "display_name": "env",
   "language": "python",
   "name": "python3"
  },
  "language_info": {
   "codemirror_mode": {
    "name": "ipython",
    "version": 3
   },
   "file_extension": ".py",
   "mimetype": "text/x-python",
   "name": "python",
   "nbconvert_exporter": "python",
   "pygments_lexer": "ipython3",
   "version": "3.11.6"
  }
 },
 "nbformat": 4,
 "nbformat_minor": 2
}
