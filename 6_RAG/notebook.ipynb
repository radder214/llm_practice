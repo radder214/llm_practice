{
 "cells": [
  {
   "cell_type": "markdown",
   "metadata": {},
   "source": [
    "##### package install"
   ]
  },
  {
   "cell_type": "code",
   "execution_count": null,
   "metadata": {},
   "outputs": [],
   "source": [
    "# %pip install langchain.chat_model\n",
    "# %pip install langchain\n",
    "# %pip install openai\n",
    "# %pip install langchain_community\n",
    "# %pip install pypdf\n",
    "# %pip install unstructured\n",
    "# %pip install python-magic-bin\n",
    "# %pip install \"unstructured[docx]\"\n",
    "# %pip install -U langchain-openai langchain-unstructured\n",
    "# %pip install -U langchain-unstructured\n",
    "\n",
    "# %pip check\n",
    "# %pip list | findstr \"^langchain\""
   ]
  },
  {
   "cell_type": "markdown",
   "metadata": {},
   "source": [
    "##### 문서 load"
   ]
  },
  {
   "cell_type": "code",
   "execution_count": null,
   "metadata": {},
   "outputs": [],
   "source": [
    "from langchain.chat_models import ChatOpenAI\n",
    "from langchain.document_loaders import TextLoader\n",
    "from langchain.document_loaders import PyPDFLoader\n",
    "from langchain.document_loaders import UnstructuredFileLoader # 다양한 확장자의 파일을 열 수 있다.\n",
    "\n",
    "# loader0 = TextLoader(\"./files/chapter_one.txt\")\n",
    "# loader0.load()\n",
    "\n",
    "# loader1 = PyPDFLoader(\"./files/chapter_one.pdf\")\n",
    "# loader1.load()\n",
    "\n",
    "# 강의에서는 UnstructuredFileLoader 를 사용할 것이다.\n",
    "loader = UnstructuredFileLoader(\"./files/chapter_one.docx\")\n",
    "loader.load()"
   ]
  },
  {
   "cell_type": "markdown",
   "metadata": {},
   "source": [
    "##### 문서 분할\n",
    "- 문서의 덩어리가 너무 크기 때문에 나눠야 한다.\n",
    "    - LLM 에게 질문과 연관된 자료를 줄 때 필요한 '파일의 부분들'만 전달할 수 있다.\n",
    "    - 답변 생성에 필요한 것을 더 찾기 쉽다.\n",
    "    - 그러면 Prompt 의 길이도 짧아진다. by 딱 필요한 부분만 주기 때문에\n",
    "\n",
    "##### 이를 위해\n",
    "- 문서의 모든 문자를 조각낸다.(모든 문자를 작은 조각들로 만든다.)"
   ]
  },
  {
   "cell_type": "code",
   "execution_count": null,
   "metadata": {},
   "outputs": [
    {
     "name": "stderr",
     "output_type": "stream",
     "text": [
      "WARNING: Created a chunk of size 963, which is longer than the specified 600\n",
      "WARNING: Created a chunk of size 774, which is longer than the specified 600\n",
      "WARNING: Created a chunk of size 954, which is longer than the specified 600\n",
      "WARNING: Created a chunk of size 922, which is longer than the specified 600\n",
      "WARNING: Created a chunk of size 1168, which is longer than the specified 600\n",
      "WARNING: Created a chunk of size 821, which is longer than the specified 600\n",
      "WARNING: Created a chunk of size 700, which is longer than the specified 600\n",
      "WARNING: Created a chunk of size 745, which is longer than the specified 600\n",
      "WARNING: Created a chunk of size 735, which is longer than the specified 600\n",
      "WARNING: Created a chunk of size 1110, which is longer than the specified 600\n",
      "WARNING: Created a chunk of size 991, which is longer than the specified 600\n",
      "WARNING: Created a chunk of size 990, which is longer than the specified 600\n",
      "WARNING: Created a chunk of size 1741, which is longer than the specified 600\n",
      "WARNING: Created a chunk of size 2001, which is longer than the specified 600\n",
      "WARNING: Created a chunk of size 1900, which is longer than the specified 600\n",
      "WARNING: Created a chunk of size 1130, which is longer than the specified 600\n",
      "WARNING: Created a chunk of size 1799, which is longer than the specified 600\n",
      "WARNING: Created a chunk of size 1690, which is longer than the specified 600\n",
      "WARNING: Created a chunk of size 2364, which is longer than the specified 600\n",
      "WARNING: Created a chunk of size 930, which is longer than the specified 600\n",
      "WARNING: Created a chunk of size 1022, which is longer than the specified 600\n",
      "WARNING: Created a chunk of size 1260, which is longer than the specified 600\n",
      "WARNING: Created a chunk of size 795, which is longer than the specified 600\n",
      "WARNING: Created a chunk of size 1293, which is longer than the specified 600\n",
      "WARNING: Created a chunk of size 649, which is longer than the specified 600\n"
     ]
    },
    {
     "data": {
      "text/plain": [
       "39"
      ]
     },
     "execution_count": 19,
     "metadata": {},
     "output_type": "execute_result"
    }
   ],
   "source": [
    "# 일반적인 Text Splitter\n",
    "# 문장 혹은 문단의 끝부분마다 끊어주는(분할) 역할, 뜬금없이 문장의 중간을 끊지 않는다.\n",
    "# 쉽게 말해 -> 문장과 문단 구조를 유지하면서 문서를 쪼개는 것이다.\n",
    "from langchain.text_splitter import RecursiveCharacterTextSplitter, CharacterTextSplitter\n",
    "\n",
    "splitter = RecursiveCharacterTextSplitter(\n",
    "    chunk_size    = 200,# 얼마나 큰 덩어리로 쪼갤 것이냐\n",
    "    chunk_overlap = 50  # 분할된 조각들의 내용을 얼마나 겹치게 할 것이냐\n",
    ")\n",
    "\n",
    "splitter2 = CharacterTextSplitter(\n",
    "    separator     =\"\\n\",# 지정한 문자열을 찾은 다음 거기서부터 끊는다.\n",
    "    chunk_size    = 600,# 얼마나 큰 덩어리로 쪼갤 것이냐\n",
    "    chunk_overlap = 100 # 분할된 조각들의 내용을 얼마나 겹치게 할 것이냐\n",
    ")\n",
    "\n",
    "# chunk 가 작을수록 더 좋다.\n",
    "loader = UnstructuredFileLoader(\"./files/chapter_one.docx\")\n",
    "loader.load_and_split(text_splitter=splitter2)"
   ]
  }
 ],
 "metadata": {
  "kernelspec": {
   "display_name": "env",
   "language": "python",
   "name": "python3"
  },
  "language_info": {
   "codemirror_mode": {
    "name": "ipython",
    "version": 3
   },
   "file_extension": ".py",
   "mimetype": "text/x-python",
   "name": "python",
   "nbconvert_exporter": "python",
   "pygments_lexer": "ipython3",
   "version": "3.11.6"
  }
 },
 "nbformat": 4,
 "nbformat_minor": 2
}
